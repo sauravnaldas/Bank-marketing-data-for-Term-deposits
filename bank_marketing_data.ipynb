{
 "cells": [
  {
   "cell_type": "markdown",
   "id": "7233ce40",
   "metadata": {},
   "source": [
    "The data is related with direct marketing campaigns of a Portuguese banking institution. The marketing campaigns were based on phone calls. Often, more than one contact to the same client was required, in order to access if the product (bank term deposit) would be (‘yes’) or not (‘no’) subscribed. The classification goal is to predict if the client will subscribe a term deposit (variable y)."
   ]
  },
  {
   "cell_type": "markdown",
   "id": "abac67ce",
   "metadata": {},
   "source": [
    "Bank client data:\n",
    "\n",
    "Age (numeric)\n",
    "Job : type of job (categorical: ‘admin.’, ‘blue-collar’, ‘entrepreneur’, ‘housemaid’, ‘management’, ‘retired’, ‘self-employed’, ‘services’, ‘student’, ‘technician’, ‘unemployed’, ‘unknown’)\n",
    "Marital : marital status (categorical: ‘divorced’, ‘married’, ‘single’, ‘unknown’ ; note: ‘divorced’ means divorced or widowed)\n",
    "Education (categorical: ‘basic.4y’, ‘basic.6y’, ‘basic.9y’, ‘high.school’, ‘illiterate’, ‘professional.course’, ‘university.degree’, ‘unknown’)\n",
    "Default: has credit in default? (categorical: ‘no’, ‘yes’, ‘unknown’)\n",
    "Housing: has housing loan? (categorical: ‘no’, ‘yes’, ‘unknown’)\n",
    "Loan: has personal loan? (categorical: ‘no’, ‘yes’, ‘unknown’)"
   ]
  },
  {
   "cell_type": "markdown",
   "id": "5fd48d08",
   "metadata": {},
   "source": [
    "Output variable (desired target):\n",
    "\n",
    "y: has the client subscribed a term deposit? (binary: ‘yes’, ‘no’)"
   ]
  },
  {
   "cell_type": "code",
   "execution_count": 4,
   "id": "b4d23265",
   "metadata": {},
   "outputs": [],
   "source": [
    "library(dplyr)\n",
    "library(gmodels)\n",
    "library(descr)\n",
    "library(ggplot2)"
   ]
  },
  {
   "cell_type": "code",
   "execution_count": 5,
   "id": "60ac9a68",
   "metadata": {},
   "outputs": [],
   "source": [
    "data=read.csv(file.choose(),sep = \";\",header = T,stringsAsFactors = T)"
   ]
  },
  {
   "cell_type": "code",
   "execution_count": 52,
   "id": "19dccba1",
   "metadata": {},
   "outputs": [
    {
     "name": "stdout",
     "output_type": "stream",
     "text": [
      "'data.frame':\t41188 obs. of  23 variables:\n",
      " $ age           : int  56 57 37 40 56 45 59 41 24 25 ...\n",
      " $ job           : Factor w/ 12 levels \"admin.\",\"blue-collar\",..: 4 8 8 1 8 8 1 2 10 8 ...\n",
      " $ marital       : Factor w/ 4 levels \"divorced\",\"married\",..: 2 2 2 2 2 2 2 2 3 3 ...\n",
      " $ education     : Factor w/ 8 levels \"basic.4y\",\"basic.6y\",..: 1 4 4 2 4 3 6 8 6 4 ...\n",
      " $ default       : Factor w/ 3 levels \"no\",\"unknown\",..: 1 2 1 1 1 2 1 2 1 1 ...\n",
      " $ housing       : Factor w/ 3 levels \"no\",\"unknown\",..: 1 1 3 1 1 1 1 1 3 3 ...\n",
      " $ loan          : Factor w/ 3 levels \"no\",\"unknown\",..: 1 1 1 1 3 1 1 1 1 1 ...\n",
      " $ contact       : Factor w/ 2 levels \"cellular\",\"telephone\": 2 2 2 2 2 2 2 2 2 2 ...\n",
      " $ month         : Factor w/ 10 levels \"apr\",\"aug\",\"dec\",..: 7 7 7 7 7 7 7 7 7 7 ...\n",
      " $ day_of_week   : Factor w/ 5 levels \"fri\",\"mon\",\"thu\",..: 2 2 2 2 2 2 2 2 2 2 ...\n",
      " $ duration      : int  261 149 226 151 307 198 139 217 380 50 ...\n",
      " $ campaign      : int  1 1 1 1 1 1 1 1 1 1 ...\n",
      " $ pdays         : int  999 999 999 999 999 999 999 999 999 999 ...\n",
      " $ previous      : int  0 0 0 0 0 0 0 0 0 0 ...\n",
      " $ poutcome      : Factor w/ 3 levels \"failure\",\"nonexistent\",..: 2 2 2 2 2 2 2 2 2 2 ...\n",
      " $ emp.var.rate  : num  1.1 1.1 1.1 1.1 1.1 1.1 1.1 1.1 1.1 1.1 ...\n",
      " $ cons.price.idx: num  94 94 94 94 94 ...\n",
      " $ cons.conf.idx : num  -36.4 -36.4 -36.4 -36.4 -36.4 -36.4 -36.4 -36.4 -36.4 -36.4 ...\n",
      " $ euribor3m     : num  4.86 4.86 4.86 4.86 4.86 ...\n",
      " $ nr.employed   : num  5191 5191 5191 5191 5191 ...\n",
      " $ y             : Factor w/ 2 levels \"no\",\"yes\": 1 1 1 1 1 1 1 1 1 1 ...\n",
      " $ term_deposit  : Factor w/ 2 levels \"dont have term deposit\",..: 1 1 1 1 1 1 1 1 1 1 ...\n",
      " $ age_bar       : Factor w/ 3 levels \"Gen_z\",\"medium_age\",..: 2 2 2 2 2 2 2 2 1 1 ...\n"
     ]
    }
   ],
   "source": [
    "str(data)"
   ]
  },
  {
   "cell_type": "code",
   "execution_count": 7,
   "id": "7f279853",
   "metadata": {},
   "outputs": [
    {
     "data": {
      "text/html": [
       "<ol class=list-inline>\n",
       "\t<li>41188</li>\n",
       "\t<li>21</li>\n",
       "</ol>\n"
      ],
      "text/latex": [
       "\\begin{enumerate*}\n",
       "\\item 41188\n",
       "\\item 21\n",
       "\\end{enumerate*}\n"
      ],
      "text/markdown": [
       "1. 41188\n",
       "2. 21\n",
       "\n",
       "\n"
      ],
      "text/plain": [
       "[1] 41188    21"
      ]
     },
     "metadata": {},
     "output_type": "display_data"
    }
   ],
   "source": [
    "dim(data)"
   ]
  },
  {
   "cell_type": "markdown",
   "id": "488e9f84",
   "metadata": {},
   "source": [
    "Now finding the portion of data"
   ]
  },
  {
   "cell_type": "code",
   "execution_count": 7,
   "id": "bf624c3b",
   "metadata": {},
   "outputs": [
    {
     "data": {
      "text/html": [
       "0"
      ],
      "text/latex": [
       "0"
      ],
      "text/markdown": [
       "0"
      ],
      "text/plain": [
       "[1] 0"
      ]
     },
     "metadata": {},
     "output_type": "display_data"
    }
   ],
   "source": [
    "sum(is.na(data))"
   ]
  },
  {
   "cell_type": "markdown",
   "id": "3ac28989",
   "metadata": {},
   "source": [
    "No missing value present"
   ]
  },
  {
   "cell_type": "code",
   "execution_count": 8,
   "id": "fe0e410f",
   "metadata": {},
   "outputs": [],
   "source": [
    "data= data %>%\n",
    "  mutate(term_deposit=if_else(y==\"yes\",\"have term deposit\",\"dont have term deposit\"))\n",
    "data$term_deposit=as.factor(data$term_deposit)"
   ]
  },
  {
   "cell_type": "code",
   "execution_count": 9,
   "id": "72335290",
   "metadata": {},
   "outputs": [
    {
     "data": {
      "text/plain": [
       "   Cell Contents \n",
       "|-------------------------|\n",
       "|                       N | \n",
       "|           N / Row Total | \n",
       "|-------------------------|\n",
       "\n",
       "| dont have term deposit |      have term deposit |\n",
       "|------------------------|------------------------|\n",
       "|                  36548 |                   4640 |\n",
       "|                  0.887 |                  0.113 |\n",
       "|------------------------|------------------------|\n"
      ]
     },
     "metadata": {},
     "output_type": "display_data"
    }
   ],
   "source": [
    "CrossTable(data$term_deposit)"
   ]
  },
  {
   "cell_type": "markdown",
   "id": "5e72351b",
   "metadata": {},
   "source": [
    "This is an unbalanced two-levels categorical variable, 88.7% of values taken are \"dont have term deposit and only 11.3% of the values are “ have term deposit\"."
   ]
  },
  {
   "cell_type": "code",
   "execution_count": 15,
   "id": "6837f49d",
   "metadata": {},
   "outputs": [
    {
     "data": {
      "text/html": [
       "12718"
      ],
      "text/latex": [
       "12718"
      ],
      "text/markdown": [
       "12718"
      ],
      "text/plain": [
       "[1] 12718"
      ]
     },
     "metadata": {},
     "output_type": "display_data"
    }
   ],
   "source": [
    "sum(data==\"unknown\")"
   ]
  },
  {
   "cell_type": "markdown",
   "id": "df75ecc1",
   "metadata": {},
   "source": [
    "There are plenty unknown values"
   ]
  },
  {
   "cell_type": "markdown",
   "id": "7ffa5a55",
   "metadata": {},
   "source": [
    "Now finding the distribution of agewise data of having term deposits"
   ]
  },
  {
   "cell_type": "code",
   "execution_count": 12,
   "id": "36420bd4",
   "metadata": {},
   "outputs": [
    {
     "data": {
      "image/png": "[encoded data removed]",
      "text/plain": [
       "plot without title"
      ]
     },
     "metadata": {},
     "output_type": "display_data"
    }
   ],
   "source": [
    "ggplot(data, aes(x=age,fill=term_deposit)) + geom_bar()"
   ]
  },
  {
   "cell_type": "code",
   "execution_count": 11,
   "id": "a5a1324e",
   "metadata": {},
   "outputs": [],
   "source": [
    "library(descr)"
   ]
  },
  {
   "cell_type": "markdown",
   "id": "0fc7e85f",
   "metadata": {},
   "source": [
    "Dividing the age group into senior citizen, medium age group and gen -z"
   ]
  },
  {
   "cell_type": "code",
   "execution_count": 45,
   "id": "4ca73dea",
   "metadata": {},
   "outputs": [],
   "source": [
    "data$age_bar=if_else(data$age>60,\"senior_citizen\",if_else(data$age>30,'medium_age','Gen_z'))"
   ]
  },
  {
   "cell_type": "code",
   "execution_count": 51,
   "id": "89da131c",
   "metadata": {},
   "outputs": [],
   "source": [
    "data$age_bar=as.factor(data$age_bar)"
   ]
  },
  {
   "cell_type": "code",
   "execution_count": 54,
   "id": "5d4ab9d9",
   "metadata": {},
   "outputs": [
    {
     "data": {
      "text/plain": [
       "   Cell Contents \n",
       "|-------------------------|\n",
       "|                   Count | \n",
       "|             Row Percent | \n",
       "|-------------------------|\n",
       "\n",
       "====================================================================\n",
       "                  data$term_deposit\n",
       "data$age_bar      dont have term deposit   have term deposit   Total\n",
       "--------------------------------------------------------------------\n",
       "Gen_z                              6259                1124    7383 \n",
       "                                   84.8%               15.2%   17.9%\n",
       "--------------------------------------------------------------------\n",
       "medium_age                        29793                3102   32895 \n",
       "                                   90.6%                9.4%   79.9%\n",
       "--------------------------------------------------------------------\n",
       "senior_citizen                      496                 414     910 \n",
       "                                   54.5%               45.5%    2.2%\n",
       "--------------------------------------------------------------------\n",
       "Total                             36548                4640   41188 \n",
       "===================================================================="
      ]
     },
     "metadata": {},
     "output_type": "display_data"
    },
    {
     "data": {
      "image/png": "[encoded data removed]",
      "text/plain": [
       "plot without title"
      ]
     },
     "metadata": {},
     "output_type": "display_data"
    }
   ],
   "source": [
    "ggplot(data,aes(x=age_bar,fill=term_deposit))+geom_bar()\n",
    "crosstab(data$age_bar,data$term_deposit,prop.r = T,plot = FALSE)"
   ]
  },
  {
   "cell_type": "markdown",
   "id": "7c46126b",
   "metadata": {},
   "source": [
    "Senior Citizen tends to have more term deposits as compared to other age group"
   ]
  },
  {
   "cell_type": "code",
   "execution_count": 47,
   "id": "4d988705",
   "metadata": {},
   "outputs": [],
   "source": [
    "age_group=data %>%\n",
    "  mutate(age_bar=if_else(age>60,\"senior_citizen\",if_else(age>30,'medium_age','Gen_z'))) %>%\n",
    "  group_by(age_bar) %>%\n",
    "  summarise(count=n())"
   ]
  },
  {
   "cell_type": "code",
   "execution_count": 49,
   "id": "809680fb",
   "metadata": {},
   "outputs": [
    {
     "data": {
      "text/html": [
       "<table>\n",
       "<thead><tr><th scope=col>age_bar</th><th scope=col>count</th></tr></thead>\n",
       "<tbody>\n",
       "\t<tr><td>Gen_z         </td><td> 7383         </td></tr>\n",
       "\t<tr><td>medium_age    </td><td>32895         </td></tr>\n",
       "\t<tr><td>senior_citizen</td><td>  910         </td></tr>\n",
       "</tbody>\n",
       "</table>\n"
      ],
      "text/latex": [
       "\\begin{tabular}{r|ll}\n",
       " age\\_bar & count\\\\\n",
       "\\hline\n",
       "\t Gen\\_z          &  7383           \\\\\n",
       "\t medium\\_age     & 32895           \\\\\n",
       "\t senior\\_citizen &   910           \\\\\n",
       "\\end{tabular}\n"
      ],
      "text/markdown": [
       "\n",
       "| age_bar | count |\n",
       "|---|---|\n",
       "| Gen_z          |  7383          |\n",
       "| medium_age     | 32895          |\n",
       "| senior_citizen |   910          |\n",
       "\n"
      ],
      "text/plain": [
       "  age_bar        count\n",
       "1 Gen_z           7383\n",
       "2 medium_age     32895\n",
       "3 senior_citizen   910"
      ]
     },
     "metadata": {},
     "output_type": "display_data"
    }
   ],
   "source": [
    "age_group"
   ]
  },
  {
   "cell_type": "code",
   "execution_count": 65,
   "id": "ed64a965",
   "metadata": {},
   "outputs": [
    {
     "data": {
      "text/plain": [
       "   Cell Contents \n",
       "|-------------------------|\n",
       "|                   Count | \n",
       "|             Row Percent | \n",
       "|-------------------------|\n",
       "\n",
       "===================================================================\n",
       "                 data$term_deposit\n",
       "data$job         dont have term deposit   have term deposit   Total\n",
       "-------------------------------------------------------------------\n",
       "admin.                            9070                1352   10422 \n",
       "                                  87.0%               13.0%   25.3%\n",
       "-------------------------------------------------------------------\n",
       "blue-collar                       8616                 638    9254 \n",
       "                                  93.1%                6.9%   22.5%\n",
       "-------------------------------------------------------------------\n",
       "entrepreneur                      1332                 124    1456 \n",
       "                                  91.5%                8.5%    3.5%\n",
       "-------------------------------------------------------------------\n",
       "housemaid                          954                 106    1060 \n",
       "                                  90.0%               10.0%    2.6%\n",
       "-------------------------------------------------------------------\n",
       "management                        2596                 328    2924 \n",
       "                                  88.8%               11.2%    7.1%\n",
       "-------------------------------------------------------------------\n",
       "retired                           1286                 434    1720 \n",
       "                                  74.8%               25.2%    4.2%\n",
       "-------------------------------------------------------------------\n",
       "self-employed                     1272                 149    1421 \n",
       "                                  89.5%               10.5%    3.5%\n",
       "-------------------------------------------------------------------\n",
       "services                          3646                 323    3969 \n",
       "                                  91.9%                8.1%    9.6%\n",
       "-------------------------------------------------------------------\n",
       "student                            600                 275     875 \n",
       "                                  68.6%               31.4%    2.1%\n",
       "-------------------------------------------------------------------\n",
       "technician                        6013                 730    6743 \n",
       "                                  89.2%               10.8%   16.4%\n",
       "-------------------------------------------------------------------\n",
       "unemployed                         870                 144    1014 \n",
       "                                  85.8%               14.2%    2.5%\n",
       "-------------------------------------------------------------------\n",
       "unknown                            293                  37     330 \n",
       "                                  88.8%               11.2%    0.8%\n",
       "-------------------------------------------------------------------\n",
       "Total                            36548                4640   41188 \n",
       "==================================================================="
      ]
     },
     "metadata": {},
     "output_type": "display_data"
    },
    {
     "data": {
      "image/png": "[encoded data removed]",
      "text/plain": [
       "plot without title"
      ]
     },
     "metadata": {},
     "output_type": "display_data"
    }
   ],
   "source": [
    "data %>%\n",
    "  filter(job !=\"unknown\") %>%\n",
    "ggplot(aes(x=job,fill=term_deposit))+geom_bar(width=0.3)\n",
    "crosstab(data$job,data$term_deposit,prop.r = TRUE, plot = FALSE)"
   ]
  },
  {
   "cell_type": "markdown",
   "id": "6fd398e8",
   "metadata": {},
   "source": [
    "Surprisingly, students (31.4%), retired people (25.2%) and unemployed (14.2%) categories show the best count of term deposit subscription. "
   ]
  },
  {
   "cell_type": "code",
   "execution_count": 66,
   "id": "5dd8a526",
   "metadata": {},
   "outputs": [
    {
     "data": {
      "text/plain": [
       "   Cell Contents \n",
       "|-------------------------|\n",
       "|                   Count | \n",
       "|             Row Percent | \n",
       "|-------------------------|\n",
       "\n",
       "==================================================================\n",
       "                data$term_deposit\n",
       "data$marital    dont have term deposit   have term deposit   Total\n",
       "------------------------------------------------------------------\n",
       "divorced                         4136                 476    4612 \n",
       "                                 89.7%               10.3%   11.2%\n",
       "------------------------------------------------------------------\n",
       "married                         22396                2532   24928 \n",
       "                                 89.8%               10.2%   60.5%\n",
       "------------------------------------------------------------------\n",
       "single                           9948                1620   11568 \n",
       "                                 86.0%               14.0%   28.1%\n",
       "------------------------------------------------------------------\n",
       "unknown                            68                  12      80 \n",
       "                                 85.0%               15.0%    0.2%\n",
       "------------------------------------------------------------------\n",
       "Total                           36548                4640   41188 \n",
       "=================================================================="
      ]
     },
     "metadata": {},
     "output_type": "display_data"
    },
    {
     "data": {
      "image/png": "[encoded data removed]",
      "text/plain": [
       "plot without title"
      ]
     },
     "metadata": {},
     "output_type": "display_data"
    }
   ],
   "source": [
    "data %>%\n",
    "  filter(marital !=\"unknown\") %>%\n",
    "ggplot(aes(x=marital,fill=term_deposit))+geom_bar(width=0.4)\n",
    "crosstab(data$marital,data$term_deposit,prop.r = TRUE,plot=FALSE)\n"
   ]
  },
  {
   "cell_type": "markdown",
   "id": "db7a1b2d",
   "metadata": {},
   "source": [
    "Single goes for more term deposits(14%) as compared to others"
   ]
  },
  {
   "cell_type": "code",
   "execution_count": 39,
   "id": "1185b52b",
   "metadata": {},
   "outputs": [
    {
     "data": {
      "text/plain": [
       "   Cell Contents \n",
       "|-------------------------|\n",
       "|                   Count | \n",
       "|             Row Percent | \n",
       "|-------------------------|\n",
       "\n",
       "=========================================================================\n",
       "                       data$term_deposit\n",
       "data$education         dont have term deposit   have term deposit   Total\n",
       "-------------------------------------------------------------------------\n",
       "basic.4y                                3748                 428    4176 \n",
       "                                        89.8%               10.2%   10.1%\n",
       "-------------------------------------------------------------------------\n",
       "basic.6y                                2104                 188    2292 \n",
       "                                        91.8%                8.2%    5.6%\n",
       "-------------------------------------------------------------------------\n",
       "basic.9y                                5572                 473    6045 \n",
       "                                        92.2%                7.8%   14.7%\n",
       "-------------------------------------------------------------------------\n",
       "high.school                             8484                1031    9515 \n",
       "                                        89.2%               10.8%   23.1%\n",
       "-------------------------------------------------------------------------\n",
       "illiterate                                14                   4      18 \n",
       "                                        77.8%               22.2%    0.0%\n",
       "-------------------------------------------------------------------------\n",
       "professional.course                     4648                 595    5243 \n",
       "                                        88.7%               11.3%   12.7%\n",
       "-------------------------------------------------------------------------\n",
       "university.degree                      10498                1670   12168 \n",
       "                                        86.3%               13.7%   29.5%\n",
       "-------------------------------------------------------------------------\n",
       "unknown                                 1480                 251    1731 \n",
       "                                        85.5%               14.5%    4.2%\n",
       "-------------------------------------------------------------------------\n",
       "Total                                  36548                4640   41188 \n",
       "========================================================================="
      ]
     },
     "metadata": {},
     "output_type": "display_data"
    },
    {
     "data": {
      "image/png": "[encoded data removed]",
      "text/plain": [
       "plot without title"
      ]
     },
     "metadata": {},
     "output_type": "display_data"
    }
   ],
   "source": [
    "data %>%\n",
    "  filter(education !=\"unknown\") %>%\n",
    "ggplot(aes(x=education,fill=term_deposit))+geom_bar(width=0.4)\n",
    "crosstab(data$education,data$term_deposit,prop.r = TRUE,plot = FALSE)"
   ]
  },
  {
   "cell_type": "markdown",
   "id": "ef923b4c",
   "metadata": {},
   "source": [
    "Among the 1,480 rows containing the “unknown” value, 251 of them subscribed to a term deposit. This is around 5% of the total group of subscribers. Since we’re facing a very unbalanced dependent variable situation, we can not afford to discard those rows."
   ]
  },
  {
   "cell_type": "code",
   "execution_count": 32,
   "id": "731cbbed",
   "metadata": {},
   "outputs": [
    {
     "data": {
      "text/plain": [
       "   Cell Contents \n",
       "|-------------------------|\n",
       "|                       N | \n",
       "|           N / Row Total | \n",
       "|-------------------------|\n",
       "\n",
       "|        no |   unknown |       yes |\n",
       "|-----------|-----------|-----------|\n",
       "|     32588 |      8597 |         3 |\n",
       "|     0.791 |     0.209 |     0.000 |\n",
       "|-----------|-----------|-----------|\n"
      ]
     },
     "metadata": {},
     "output_type": "display_data"
    }
   ],
   "source": [
    "CrossTable(data$default)"
   ]
  },
  {
   "cell_type": "markdown",
   "id": "5e557863",
   "metadata": {},
   "source": [
    "This data is not very appropriate to use as there are more that 20% of unknown data and only 3 person replied as yes\n"
   ]
  },
  {
   "cell_type": "code",
   "execution_count": 50,
   "id": "866613c6",
   "metadata": {},
   "outputs": [
    {
     "data": {
      "text/plain": [
       "   Cell Contents \n",
       "|-------------------------|\n",
       "|                   Count | \n",
       "|             Row Percent | \n",
       "|-------------------------|\n",
       "\n",
       "==================================================================\n",
       "                data$term_deposit\n",
       "data$housing    dont have term deposit   have term deposit   Total\n",
       "------------------------------------------------------------------\n",
       "no                              16596                2026   18622 \n",
       "                                 89.1%               10.9%   45.2%\n",
       "------------------------------------------------------------------\n",
       "unknown                           883                 107     990 \n",
       "                                 89.2%               10.8%    2.4%\n",
       "------------------------------------------------------------------\n",
       "yes                             19069                2507   21576 \n",
       "                                 88.4%               11.6%   52.4%\n",
       "------------------------------------------------------------------\n",
       "Total                           36548                4640   41188 \n",
       "=================================================================="
      ]
     },
     "metadata": {},
     "output_type": "display_data"
    },
    {
     "data": {
      "text/plain": [
       "\n",
       "\tPearson's Chi-squared test\n",
       "\n",
       "data:  data$housing and data$y\n",
       "X-squared = 5.6845, df = 2, p-value = 0.05829\n"
      ]
     },
     "metadata": {},
     "output_type": "display_data"
    },
    {
     "data": {
      "image/png": "[encoded data removed]",
      "text/plain": [
       "plot without title"
      ]
     },
     "metadata": {},
     "output_type": "display_data"
    }
   ],
   "source": [
    "#Housing loan\n",
    "\n",
    "data %>%\n",
    "  filter(housing !=\"unknown\") %>%\n",
    "ggplot(aes(x=housing,fill=term_deposit))+geom_bar(width=0.4)\n",
    "     crosstab(data$housing,data$term_deposit,prop.r = TRUE, plot = FALSE)\n",
    "\n",
    "chisq.test(data$housing,data$y)\n",
    "\n"
   ]
  },
  {
   "cell_type": "markdown",
   "id": "a079d0ce",
   "metadata": {},
   "source": [
    "here is p value is more than 0.05. hence there is no association, hence removing the variable.\n"
   ]
  },
  {
   "cell_type": "code",
   "execution_count": 68,
   "id": "1bcddc6e",
   "metadata": {},
   "outputs": [
    {
     "data": {
      "text/plain": [
       "   Cell Contents \n",
       "|-------------------------|\n",
       "|                   Count | \n",
       "|             Row Percent | \n",
       "|-------------------------|\n",
       "\n",
       "===============================================================\n",
       "             data$term_deposit\n",
       "data$loan    dont have term deposit   have term deposit   Total\n",
       "---------------------------------------------------------------\n",
       "no                           30100                3850   33950 \n",
       "                              88.7%               11.3%   82.4%\n",
       "---------------------------------------------------------------\n",
       "unknown                        883                 107     990 \n",
       "                              89.2%               10.8%    2.4%\n",
       "---------------------------------------------------------------\n",
       "yes                           5565                 683    6248 \n",
       "                              89.1%               10.9%   15.2%\n",
       "---------------------------------------------------------------\n",
       "Total                        36548                4640   41188 \n",
       "==============================================================="
      ]
     },
     "metadata": {},
     "output_type": "display_data"
    },
    {
     "data": {
      "text/plain": [
       "\n",
       "\tPearson's Chi-squared test\n",
       "\n",
       "data:  data$loan and data$y\n",
       "X-squared = 1.094, df = 2, p-value = 0.5787\n"
      ]
     },
     "metadata": {},
     "output_type": "display_data"
    },
    {
     "data": {
      "image/png": "[encoded data removed]",
      "text/plain": [
       "plot without title"
      ]
     },
     "metadata": {},
     "output_type": "display_data"
    }
   ],
   "source": [
    "# Personal loan\n",
    "\n",
    "data %>%\n",
    "  filter(loan !=\"unknown\") %>%\n",
    "  ggplot(aes(x=loan,fill=term_deposit))+geom_bar(width=0.4)\n",
    "crosstab(data$loan,data$term_deposit,prop.r = T,plot = FALSE)\n",
    "chisq.test(data$loan,data$y)"
   ]
  },
  {
   "cell_type": "markdown",
   "id": "8bd70abb",
   "metadata": {},
   "source": [
    "Here the P value is greater than 0.05 ,hence no association. Removing the variable will be better."
   ]
  },
  {
   "cell_type": "code",
   "execution_count": 69,
   "id": "396e95a6",
   "metadata": {},
   "outputs": [
    {
     "data": {
      "text/plain": [
       "   Cell Contents \n",
       "|-------------------------|\n",
       "|                   Count | \n",
       "|             Row Percent | \n",
       "|-------------------------|\n",
       "\n",
       "==================================================================\n",
       "                data$term_deposit\n",
       "data$contact    dont have term deposit   have term deposit   Total\n",
       "------------------------------------------------------------------\n",
       "cellular                        22291                3853   26144 \n",
       "                                 85.3%               14.7%   63.5%\n",
       "------------------------------------------------------------------\n",
       "telephone                       14257                 787   15044 \n",
       "                                 94.8%                5.2%   36.5%\n",
       "------------------------------------------------------------------\n",
       "Total                           36548                4640   41188 \n",
       "=================================================================="
      ]
     },
     "metadata": {},
     "output_type": "display_data"
    }
   ],
   "source": [
    "crosstab(data$contact,data$term_deposit,prop.r = T,plot = FALSE)"
   ]
  },
  {
   "cell_type": "markdown",
   "id": "24575e30",
   "metadata": {},
   "source": [
    "This feature is really interesting, 14.7% of cellular responders subscribed to a term deposit while only 5.2% of telephone responders did."
   ]
  },
  {
   "cell_type": "code",
   "execution_count": null,
   "id": "44cbe128",
   "metadata": {},
   "outputs": [],
   "source": []
  }
 ],
 "metadata": {
  "celltoolbar": "Raw Cell Format",
  "kernelspec": {
   "display_name": "R",
   "language": "R",
   "name": "ir"
  },
  "language_info": {
   "codemirror_mode": "r",
   "file_extension": ".r",
   "mimetype": "text/x-r-source",
   "name": "R",
   "pygments_lexer": "r",
   "version": "3.6.1"
  }
 },
 "nbformat": 4,
 "nbformat_minor": 5
}
